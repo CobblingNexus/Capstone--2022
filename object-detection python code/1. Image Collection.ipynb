{
 "cells": [
  {
   "cell_type": "markdown",
   "metadata": {},
   "source": [
    "# 1. Import Dependencies"
   ]
  },
  {
   "cell_type": "code",
   "execution_count": 1,
   "metadata": {},
   "outputs": [
    {
     "name": "stdout",
     "output_type": "stream",
     "text": [
      "Requirement already satisfied: opencv-python in f:\\object detection\\tfodcourse\\tfod\\lib\\site-packages (4.5.5.64)\n",
      "Requirement already satisfied: numpy>=1.21.2 in f:\\object detection\\tfodcourse\\tfod\\lib\\site-packages (from opencv-python) (1.22.3)\n"
     ]
    }
   ],
   "source": [
    "!pip install opencv-python"
   ]
  },
  {
   "cell_type": "code",
   "execution_count": 2,
   "metadata": {},
   "outputs": [],
   "source": [
    "# Import opencv\n",
    "import cv2 \n",
    "\n",
    "# Import uuid\n",
    "import uuid\n",
    "\n",
    "# Import Operating System\n",
    "import os\n",
    "\n",
    "# Import time\n",
    "import time"
   ]
  },
  {
   "cell_type": "markdown",
   "metadata": {},
   "source": [
    "# 2. Define Images to Collect"
   ]
  },
  {
   "cell_type": "code",
   "execution_count": 13,
   "metadata": {},
   "outputs": [],
   "source": [
    "labels = ['FirstDose', 'SecondDose', 'NotVaccinated']\n",
    "number_imgs = 5"
   ]
  },
  {
   "cell_type": "markdown",
   "metadata": {},
   "source": [
    "# 3. Setup Folders "
   ]
  },
  {
   "cell_type": "code",
   "execution_count": 9,
   "metadata": {},
   "outputs": [],
   "source": [
    "IMAGES_PATH = os.path.join('Tensorflow', 'workspace', 'images', 'collectedimages')"
   ]
  },
  {
   "cell_type": "code",
   "execution_count": 16,
   "metadata": {},
   "outputs": [],
   "source": [
    "if not os.path.exists(IMAGES_PATH):\n",
    "    if os.name == 'posix':\n",
    "        !mkdir -p {IMAGES_PATH}\n",
    "    if os.name == 'nt':\n",
    "         !mkdir {IMAGES_PATH}\n",
    "for label in labels:\n",
    "    path = os.path.join(IMAGES_PATH, label)\n",
    "    if not os.path.exists(path):\n",
    "        !mkdir {path}"
   ]
  },
  {
   "cell_type": "markdown",
   "metadata": {},
   "source": [
    "# 4. Capture Images"
   ]
  },
  {
   "cell_type": "code",
   "execution_count": 19,
   "metadata": {},
   "outputs": [
    {
     "name": "stdout",
     "output_type": "stream",
     "text": [
      "Collecting images for FirstDose\n",
      "Collecting image 0\n",
      "Collecting image 1\n",
      "Collecting image 2\n",
      "Collecting image 3\n",
      "Collecting image 4\n",
      "Collecting images for SecondDose\n",
      "Collecting image 0\n",
      "Collecting image 1\n",
      "Collecting image 2\n",
      "Collecting image 3\n",
      "Collecting image 4\n",
      "Collecting images for NotVaccinated\n",
      "Collecting image 0\n",
      "Collecting image 1\n",
      "Collecting image 2\n",
      "Collecting image 3\n",
      "Collecting image 4\n"
     ]
    }
   ],
   "source": [
    "for label in labels:\n",
    "    cap = cv2.VideoCapture(0)\n",
    "    print('Collecting images for {}'.format(label))\n",
    "    time.sleep(5)\n",
    "    for imgnum in range(number_imgs):\n",
    "        print('Collecting image {}'.format(imgnum))\n",
    "        ret, frame = cap.read()\n",
    "        imgname = os.path.join(IMAGES_PATH,label,label+'.'+'{}.jpg'.format(str(uuid.uuid1())))\n",
    "        cv2.imwrite(imgname, frame)\n",
    "        cv2.imshow('frame', frame)\n",
    "        time.sleep(2)\n",
    "\n",
    "        if cv2.waitKey(1) & 0xFF == ord('q'):\n",
    "            break\n",
    "cap.release()\n",
    "cv2.destroyAllWindows()"
   ]
  },
  {
   "cell_type": "markdown",
   "metadata": {},
   "source": [
    "# 5. Image Labelling"
   ]
  },
  {
   "cell_type": "code",
   "execution_count": 20,
   "metadata": {},
   "outputs": [
    {
     "name": "stdout",
     "output_type": "stream",
     "text": [
      "Collecting pyqt5\n",
      "  Using cached PyQt5-5.15.6-cp36-abi3-win_amd64.whl (6.7 MB)\n",
      "Collecting lxml\n",
      "  Using cached lxml-4.8.0-cp310-cp310-win_amd64.whl (3.6 MB)\n",
      "Collecting PyQt5-Qt5>=5.15.2\n",
      "  Using cached PyQt5_Qt5-5.15.2-py3-none-win_amd64.whl (50.1 MB)\n",
      "Collecting PyQt5-sip<13,>=12.8\n",
      "  Using cached PyQt5_sip-12.9.1-cp310-cp310-win_amd64.whl (77 kB)\n",
      "Installing collected packages: PyQt5-Qt5, PyQt5-sip, lxml, pyqt5\n",
      "Successfully installed PyQt5-Qt5-5.15.2 PyQt5-sip-12.9.1 lxml-4.8.0 pyqt5-5.15.6\n"
     ]
    }
   ],
   "source": [
    "!pip install --upgrade pyqt5 lxml"
   ]
  },
  {
   "cell_type": "code",
   "execution_count": 21,
   "metadata": {},
   "outputs": [],
   "source": [
    "LABELIMG_PATH = os.path.join('Tensorflow', 'labelimg')"
   ]
  },
  {
   "cell_type": "code",
   "execution_count": 22,
   "metadata": {},
   "outputs": [
    {
     "name": "stderr",
     "output_type": "stream",
     "text": [
      "Cloning into 'Tensorflow\\labelimg'...\n"
     ]
    }
   ],
   "source": [
    "if not os.path.exists(LABELIMG_PATH):\n",
    "    !mkdir {LABELIMG_PATH}\n",
    "    !git clone https://github.com/tzutalin/labelImg {LABELIMG_PATH}"
   ]
  },
  {
   "cell_type": "code",
   "execution_count": 23,
   "metadata": {},
   "outputs": [],
   "source": [
    "if os.name == 'posix':\n",
    "    !make qt5py3\n",
    "if os.name =='nt':\n",
    "    !cd {LABELIMG_PATH} && pyrcc5 -o libs/resources.py resources.qrc"
   ]
  },
  {
   "cell_type": "code",
   "execution_count": 24,
   "metadata": {},
   "outputs": [
    {
     "name": "stdout",
     "output_type": "stream",
     "text": [
      "Cancel creation.\n",
      "Image:F:\\Object Detection\\TFODCourse\\Tensorflow\\workspace\\images\\collectedimages\\FirstDose\\FirstDose.6a4f4dc8-b329-11ec-b42b-fc77745cc9a8.jpg -> Annotation:F:/Object Detection/TFODCourse/Tensorflow/workspace/images/collectedimages/FirstDose/FirstDose.6a4f4dc8-b329-11ec-b42b-fc77745cc9a8.xml\n",
      "Cancel creation.\n",
      "Image:F:\\Object Detection\\TFODCourse\\Tensorflow\\workspace\\images\\collectedimages\\FirstDose\\FirstDose.6b82947e-b329-11ec-88ad-fc77745cc9a8.jpg -> Annotation:F:/Object Detection/TFODCourse/Tensorflow/workspace/images/collectedimages/FirstDose/FirstDose.6b82947e-b329-11ec-88ad-fc77745cc9a8.xml\n",
      "Image:F:\\Object Detection\\TFODCourse\\Tensorflow\\workspace\\images\\collectedimages\\FirstDose\\FirstDose.6dec1198-b329-11ec-809f-fc77745cc9a8.jpg -> Annotation:F:/Object Detection/TFODCourse/Tensorflow/workspace/images/collectedimages/FirstDose/FirstDose.6dec1198-b329-11ec-809f-fc77745cc9a8.xml\n",
      "Image:F:\\Object Detection\\TFODCourse\\Tensorflow\\workspace\\images\\collectedimages\\FirstDose\\FirstDose.0936c91b-b329-11ec-94b4-fc77745cc9a8.jpg -> Annotation:F:/Object Detection/TFODCourse/Tensorflow/workspace/images/collectedimages/FirstDose/FirstDose.0936c91b-b329-11ec-94b4-fc77745cc9a8.xml\n",
      "Image:F:\\Object Detection\\TFODCourse\\Tensorflow\\workspace\\images\\collectedimages\\FirstDose\\FirstDose.c650c142-b328-11ec-9d87-fc77745cc9a8.jpg -> Annotation:F:/Object Detection/TFODCourse/Tensorflow/workspace/images/collectedimages/FirstDose/FirstDose.c650c142-b328-11ec-9d87-fc77745cc9a8.xml\n",
      "Image:F:\\Object Detection\\TFODCourse\\Tensorflow\\workspace\\images\\collectedimages\\FirstDose\\FirstDose.c786564d-b328-11ec-a245-fc77745cc9a8.jpg -> Annotation:F:/Object Detection/TFODCourse/Tensorflow/workspace/images/collectedimages/FirstDose/FirstDose.c786564d-b328-11ec-a245-fc77745cc9a8.xml\n",
      "Image:F:\\Object Detection\\TFODCourse\\Tensorflow\\workspace\\images\\collectedimages\\SecondDose\\SecondDose.0e2bc92c-b329-11ec-aca8-fc77745cc9a8.jpg -> Annotation:F:/Object Detection/TFODCourse/Tensorflow/workspace/images/collectedimages/SecondDose/SecondDose.0e2bc92c-b329-11ec-aca8-fc77745cc9a8.xml\n",
      "Image:F:\\Object Detection\\TFODCourse\\Tensorflow\\workspace\\images\\collectedimages\\SecondDose\\SecondDose.11c5ca8b-b329-11ec-8768-fc77745cc9a8.jpg -> Annotation:F:/Object Detection/TFODCourse/Tensorflow/workspace/images/collectedimages/SecondDose/SecondDose.11c5ca8b-b329-11ec-8768-fc77745cc9a8.xml\n",
      "Image:F:\\Object Detection\\TFODCourse\\Tensorflow\\workspace\\images\\collectedimages\\SecondDose\\SecondDose.72e4cd5e-b329-11ec-b644-fc77745cc9a8.jpg -> Annotation:F:/Object Detection/TFODCourse/Tensorflow/workspace/images/collectedimages/SecondDose/SecondDose.72e4cd5e-b329-11ec-b644-fc77745cc9a8.xml\n",
      "Image:F:\\Object Detection\\TFODCourse\\Tensorflow\\workspace\\images\\collectedimages\\SecondDose\\SecondDose.767eb376-b329-11ec-85f2-fc77745cc9a8.jpg -> Annotation:F:/Object Detection/TFODCourse/Tensorflow/workspace/images/collectedimages/SecondDose/SecondDose.767eb376-b329-11ec-85f2-fc77745cc9a8.xml\n",
      "Image:F:\\Object Detection\\TFODCourse\\Tensorflow\\workspace\\images\\collectedimages\\SecondDose\\SecondDose.cc7b6858-b328-11ec-93c7-fc77745cc9a8.jpg -> Annotation:F:/Object Detection/TFODCourse/Tensorflow/workspace/images/collectedimages/SecondDose/SecondDose.cc7b6858-b328-11ec-93c7-fc77745cc9a8.xml\n",
      "Image:F:\\Object Detection\\TFODCourse\\Tensorflow\\workspace\\images\\collectedimages\\SecondDose\\SecondDose.d01b75d0-b328-11ec-90f4-fc77745cc9a8.jpg -> Annotation:F:/Object Detection/TFODCourse/Tensorflow/workspace/images/collectedimages/SecondDose/SecondDose.d01b75d0-b328-11ec-90f4-fc77745cc9a8.xml\n",
      "Image:F:\\Object Detection\\TFODCourse\\Tensorflow\\workspace\\images\\collectedimages\\NotVaccinated\\NotVaccinated.1a57cb54-b329-11ec-871f-fc77745cc9a8.jpg -> Annotation:F:/Object Detection/TFODCourse/Tensorflow/workspace/images/collectedimages/NotVaccinated/NotVaccinated.1a57cb54-b329-11ec-871f-fc77745cc9a8.xml\n",
      "Image:F:\\Object Detection\\TFODCourse\\Tensorflow\\workspace\\images\\collectedimages\\NotVaccinated\\NotVaccinated.1b8e3bf9-b329-11ec-9f18-fc77745cc9a8.jpg -> Annotation:F:/Object Detection/TFODCourse/Tensorflow/workspace/images/collectedimages/NotVaccinated/NotVaccinated.1b8e3bf9-b329-11ec-9f18-fc77745cc9a8.xml\n",
      "Image:F:\\Object Detection\\TFODCourse\\Tensorflow\\workspace\\images\\collectedimages\\NotVaccinated\\NotVaccinated.1cc1dd17-b329-11ec-9dc8-fc77745cc9a8.jpg -> Annotation:F:/Object Detection/TFODCourse/Tensorflow/workspace/images/collectedimages/NotVaccinated/NotVaccinated.1cc1dd17-b329-11ec-9dc8-fc77745cc9a8.xml\n",
      "Image:F:\\Object Detection\\TFODCourse\\Tensorflow\\workspace\\images\\collectedimages\\NotVaccinated\\NotVaccinated.7f1086e3-b329-11ec-89dd-fc77745cc9a8.jpg -> Annotation:F:/Object Detection/TFODCourse/Tensorflow/workspace/images/collectedimages/NotVaccinated/NotVaccinated.7f1086e3-b329-11ec-89dd-fc77745cc9a8.xml\n",
      "Image:F:\\Object Detection\\TFODCourse\\Tensorflow\\workspace\\images\\collectedimages\\NotVaccinated\\NotVaccinated.17ef41ef-b329-11ec-a8c9-fc77745cc9a8.jpg -> Annotation:F:/Object Detection/TFODCourse/Tensorflow/workspace/images/collectedimages/NotVaccinated/NotVaccinated.17ef41ef-b329-11ec-a8c9-fc77745cc9a8.xml\n",
      "Image:F:\\Object Detection\\TFODCourse\\Tensorflow\\workspace\\images\\collectedimages\\NotVaccinated\\NotVaccinated.817a3809-b329-11ec-8f76-fc77745cc9a8.jpg -> Annotation:F:/Object Detection/TFODCourse/Tensorflow/workspace/images/collectedimages/NotVaccinated/NotVaccinated.817a3809-b329-11ec-8f76-fc77745cc9a8.xml\n"
     ]
    }
   ],
   "source": [
    "!cd {LABELIMG_PATH} && python labelImg.py"
   ]
  },
  {
   "cell_type": "markdown",
   "metadata": {},
   "source": [
    "# 6. Move them into a Training and Testing Partition"
   ]
  },
  {
   "cell_type": "markdown",
   "metadata": {},
   "source": [
    "# OPTIONAL - 7. Compress them for Colab Training"
   ]
  },
  {
   "cell_type": "code",
   "execution_count": 20,
   "metadata": {},
   "outputs": [],
   "source": [
    "TRAIN_PATH = os.path.join('Tensorflow', 'workspace', 'images', 'train')\n",
    "TEST_PATH = os.path.join('Tensorflow', 'workspace', 'images', 'test')\n",
    "ARCHIVE_PATH = os.path.join('Tensorflow', 'workspace', 'images', 'archive.tar.gz')"
   ]
  },
  {
   "cell_type": "code",
   "execution_count": 21,
   "metadata": {},
   "outputs": [],
   "source": [
    "!tar -czf {ARCHIVE_PATH} {TRAIN_PATH} {TEST_PATH}"
   ]
  },
  {
   "cell_type": "code",
   "execution_count": null,
   "metadata": {},
   "outputs": [],
   "source": []
  }
 ],
 "metadata": {
  "kernelspec": {
   "display_name": "tfod",
   "language": "python",
   "name": "tfod"
  },
  "language_info": {
   "codemirror_mode": {
    "name": "ipython",
    "version": 3
   },
   "file_extension": ".py",
   "mimetype": "text/x-python",
   "name": "python",
   "nbconvert_exporter": "python",
   "pygments_lexer": "ipython3",
   "version": "3.10.4"
  }
 },
 "nbformat": 4,
 "nbformat_minor": 2
}
